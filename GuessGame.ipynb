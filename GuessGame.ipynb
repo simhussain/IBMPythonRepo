{
 "cells": [
  {
   "cell_type": "code",
   "execution_count": null,
   "metadata": {},
   "outputs": [],
   "source": [
    "#the guessing game\n",
    "\n",
    "import random\n",
    "a=random.randint(1,9)\n",
    "brk= False\n",
    "while brk==False:\n",
    "    guess=int(input(\"Guess a number between 1 and 9:\"))\n",
    "    if (guess==a):\n",
    "        print(\"you have guessed the right number\")\n",
    "        brk=True\n",
    "    elif (guess>a):\n",
    "        print(\"The number you guessed is too high\")\n",
    "    else:\n",
    "        print(\"the number you guess is too low\")"
   ]
  }
 ],
 "metadata": {
  "kernelspec": {
   "display_name": "Python 3",
   "language": "python",
   "name": "python3"
  },
  "language_info": {
   "codemirror_mode": {
    "name": "ipython",
    "version": 3
   },
   "file_extension": ".py",
   "mimetype": "text/x-python",
   "name": "python",
   "nbconvert_exporter": "python",
   "pygments_lexer": "ipython3",
   "version": "3.6.8"
  }
 },
 "nbformat": 4,
 "nbformat_minor": 2
}
