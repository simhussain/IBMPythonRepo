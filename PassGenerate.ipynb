{
 "cells": [
  {
   "cell_type": "code",
   "execution_count": null,
   "metadata": {},
   "outputs": [],
   "source": [
    "import random\n",
    "def GenPass(L):\n",
    "    seq=\"ABCDEFGHIJKLMNOPQRSTUVWXYZ@abcdefghijklmnopqrstuvwxyz@0123456789\"\n",
    "    pw=\"\"\n",
    "    for i in range(1,L):\n",
    "        pw=pw+random.choice(seq)\n",
    "    return(pw)    \n",
    "    \n",
    "    \n",
    "inp=int(input(\"enter the desired length of your random password\"))\n",
    "print(GenPass(inp))\n"
   ]
  }
 ],
 "metadata": {
  "kernelspec": {
   "display_name": "Python 3",
   "language": "python",
   "name": "python3"
  },
  "language_info": {
   "codemirror_mode": {
    "name": "ipython",
    "version": 3
   },
   "file_extension": ".py",
   "mimetype": "text/x-python",
   "name": "python",
   "nbconvert_exporter": "python",
   "pygments_lexer": "ipython3",
   "version": "3.6.8"
  }
 },
 "nbformat": 4,
 "nbformat_minor": 2
}
