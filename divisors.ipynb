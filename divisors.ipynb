{
 "cells": [
  {
   "cell_type": "code",
   "execution_count": 1,
   "metadata": {},
   "outputs": [
    {
     "name": "stdin",
     "output_type": "stream",
     "text": [
      "Enter a number 99\n"
     ]
    },
    {
     "name": "stdout",
     "output_type": "stream",
     "text": [
      "This is the list of all divisors of number 99 : [3, 9, 11, 33]\n"
     ]
    }
   ],
   "source": [
    "# program to print all divisors of user provided number\n",
    "\n",
    "num=int(input(\"Enter a number\"))\n",
    "divs=[]\n",
    "for i in range(2,num):\n",
    "    if (num%i==0):\n",
    "        divs.append(i)\n",
    "\n",
    "print(\"This is the list of all divisors of number\",num,\":\",divs)"
   ]
  },
  {
   "cell_type": "code",
   "execution_count": null,
   "metadata": {},
   "outputs": [],
   "source": []
  }
 ],
 "metadata": {
  "kernelspec": {
   "display_name": "Python 3",
   "language": "python",
   "name": "python3"
  },
  "language_info": {
   "codemirror_mode": {
    "name": "ipython",
    "version": 3
   },
   "file_extension": ".py",
   "mimetype": "text/x-python",
   "name": "python",
   "nbconvert_exporter": "python",
   "pygments_lexer": "ipython3",
   "version": "3.6.8"
  }
 },
 "nbformat": 4,
 "nbformat_minor": 2
}
