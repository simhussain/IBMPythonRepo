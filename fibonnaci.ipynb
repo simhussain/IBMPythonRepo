{
 "cells": [
  {
   "cell_type": "code",
   "execution_count": null,
   "metadata": {},
   "outputs": [],
   "source": [
    "# The Fibonnaci seqence\n",
    "\n",
    "def Fibseq(x):\n",
    "    lst=[1]\n",
    "    n=1\n",
    "    for i in range(1,x):\n",
    "        lst.append(n)\n",
    "        n=lst[i]+lst[i-1]\n",
    "    return(lst)\n",
    "\n",
    "inp=int(input(\"number of sequence:\"))\n",
    "newlst=Fibseq(inp)\n",
    "print(newlst)\n"
   ]
  }
 ],
 "metadata": {
  "kernelspec": {
   "display_name": "Python 3",
   "language": "python",
   "name": "python3"
  },
  "language_info": {
   "codemirror_mode": {
    "name": "ipython",
    "version": 3
   },
   "file_extension": ".py",
   "mimetype": "text/x-python",
   "name": "python",
   "nbconvert_exporter": "python",
   "pygments_lexer": "ipython3",
   "version": "3.6.8"
  }
 },
 "nbformat": 4,
 "nbformat_minor": 2
}
